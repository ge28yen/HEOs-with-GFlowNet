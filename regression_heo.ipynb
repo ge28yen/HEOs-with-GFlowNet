{
 "cells": [
  {
   "cell_type": "code",
   "execution_count": 1,
   "metadata": {},
   "outputs": [],
   "source": [
    "import sklearn\n",
    "import pandas as pd\n",
    "from scipy.stats import entropy\n",
    "import numpy as np"
   ]
  },
  {
   "cell_type": "markdown",
   "metadata": {},
   "source": [
    "## 1. Investigate the data, perform feature engineering"
   ]
  },
  {
   "cell_type": "code",
   "execution_count": 2,
   "metadata": {},
   "outputs": [
    {
     "data": {
      "text/html": [
       "<div>\n",
       "<style scoped>\n",
       "    .dataframe tbody tr th:only-of-type {\n",
       "        vertical-align: middle;\n",
       "    }\n",
       "\n",
       "    .dataframe tbody tr th {\n",
       "        vertical-align: top;\n",
       "    }\n",
       "\n",
       "    .dataframe thead th {\n",
       "        text-align: right;\n",
       "    }\n",
       "</style>\n",
       "<table border=\"1\" class=\"dataframe\">\n",
       "  <thead>\n",
       "    <tr style=\"text-align: right;\">\n",
       "      <th></th>\n",
       "      <th>Al</th>\n",
       "      <th>Ca</th>\n",
       "      <th>Fe</th>\n",
       "      <th>Mg</th>\n",
       "      <th>Mn</th>\n",
       "      <th>Ni</th>\n",
       "      <th>overpotential</th>\n",
       "    </tr>\n",
       "  </thead>\n",
       "  <tbody>\n",
       "    <tr>\n",
       "      <th>0</th>\n",
       "      <td>0.123204</td>\n",
       "      <td>0.106073</td>\n",
       "      <td>0.528617</td>\n",
       "      <td>0.203194</td>\n",
       "      <td>0.003486</td>\n",
       "      <td>0.035425</td>\n",
       "      <td>1.7122</td>\n",
       "    </tr>\n",
       "    <tr>\n",
       "      <th>1</th>\n",
       "      <td>0.036817</td>\n",
       "      <td>0.044191</td>\n",
       "      <td>0.743975</td>\n",
       "      <td>0.107923</td>\n",
       "      <td>0.001843</td>\n",
       "      <td>0.065252</td>\n",
       "      <td>1.7164</td>\n",
       "    </tr>\n",
       "    <tr>\n",
       "      <th>2</th>\n",
       "      <td>0.067023</td>\n",
       "      <td>0.150251</td>\n",
       "      <td>0.470664</td>\n",
       "      <td>0.291139</td>\n",
       "      <td>0.007421</td>\n",
       "      <td>0.013501</td>\n",
       "      <td>1.7228</td>\n",
       "    </tr>\n",
       "    <tr>\n",
       "      <th>3</th>\n",
       "      <td>0.059822</td>\n",
       "      <td>0.088446</td>\n",
       "      <td>0.430872</td>\n",
       "      <td>0.396597</td>\n",
       "      <td>0.005039</td>\n",
       "      <td>0.019225</td>\n",
       "      <td>1.7250</td>\n",
       "    </tr>\n",
       "    <tr>\n",
       "      <th>4</th>\n",
       "      <td>0.060222</td>\n",
       "      <td>0.101457</td>\n",
       "      <td>0.405555</td>\n",
       "      <td>0.414243</td>\n",
       "      <td>0.005944</td>\n",
       "      <td>0.012578</td>\n",
       "      <td>1.7264</td>\n",
       "    </tr>\n",
       "  </tbody>\n",
       "</table>\n",
       "</div>"
      ],
      "text/plain": [
       "         Al        Ca        Fe        Mg        Mn        Ni  overpotential\n",
       "0  0.123204  0.106073  0.528617  0.203194  0.003486  0.035425         1.7122\n",
       "1  0.036817  0.044191  0.743975  0.107923  0.001843  0.065252         1.7164\n",
       "2  0.067023  0.150251  0.470664  0.291139  0.007421  0.013501         1.7228\n",
       "3  0.059822  0.088446  0.430872  0.396597  0.005039  0.019225         1.7250\n",
       "4  0.060222  0.101457  0.405555  0.414243  0.005944  0.012578         1.7264"
      ]
     },
     "execution_count": 2,
     "metadata": {},
     "output_type": "execute_result"
    }
   ],
   "source": [
    "heo_data = pd.read_csv('data.csv')\n",
    "heo_data.head()"
   ]
  },
  {
   "cell_type": "code",
   "execution_count": 3,
   "metadata": {},
   "outputs": [
    {
     "name": "stdout",
     "output_type": "stream",
     "text": [
      "Al - avg: 0.10798809831275721, std: 0.06905093371796822\n",
      "Ca - avg: 0.13385606113580248, std: 0.03550491768900502\n",
      "Fe - avg: 0.40952377399588474, std: 0.0837796759656596\n",
      "Mg - avg: 0.32925771282716054, std: 0.09825194929898094\n",
      "Mn - avg: 0.005817977823045268, std: 0.0015632724903564198\n",
      "Ni - avg: 0.013556375851851852, std: 0.010000855740236058\n",
      "overpotential - avg: 1.8514679012345678, std: 0.14000893403650996\n"
     ]
    }
   ],
   "source": [
    "# investigate the data distirbution column-by-column:\n",
    "for column in heo_data.columns:\n",
    "    avg = heo_data[column].mean()\n",
    "    std = heo_data[column].std()\n",
    "    print(f'{column} - avg: {avg}, std: {std}')"
   ]
  },
  {
   "cell_type": "code",
   "execution_count": 4,
   "metadata": {},
   "outputs": [],
   "source": [
    "# investigate the mutual information between the columns:\n",
    "X = heo_data.copy()\n",
    "y = X.pop('overpotential')\n"
   ]
  },
  {
   "cell_type": "code",
   "execution_count": 11,
   "metadata": {},
   "outputs": [
    {
     "name": "stdout",
     "output_type": "stream",
     "text": [
      "         Al        Ca        Fe        Mg        Mn        Ni   entropy\n",
      "0  0.123204  0.106073  0.528617  0.203194  0.003486  0.035425  1.294826\n",
      "1  0.036817  0.044191  0.743975  0.107923  0.001843  0.065252  0.909414\n",
      "2  0.067023  0.150251  0.470664  0.291139  0.007421  0.013501  1.274399\n",
      "3  0.059822  0.088446  0.430872  0.396597  0.005039  0.019225  1.215177\n",
      "4  0.060222  0.101457  0.405555  0.414243  0.005944  0.012578  1.217944\n"
     ]
    }
   ],
   "source": [
    "# Function to calculate entropy for a row\n",
    "def calculate_row_entropy(row):\n",
    "    values = row.values  # Get row values\n",
    "    probabilities = values / np.sum(values)  # Normalize to probabilities\n",
    "    return entropy(probabilities)  # Calculate entropy\n",
    "\n",
    "# Apply the entropy function to each row and add as a new column\n",
    "X[\"entropy\"] = X.apply(calculate_row_entropy, axis=1)\n",
    "\n",
    "# Print the updated DataFrame\n",
    "print(X.head())"
   ]
  },
  {
   "cell_type": "code",
   "execution_count": 5,
   "metadata": {},
   "outputs": [
    {
     "name": "stdout",
     "output_type": "stream",
     "text": [
      "Column: Al\n",
      "  Mutual Information: 0.0705\n",
      "  Correlation Coefficient: 0.3758\n",
      "Column: Ca\n",
      "  Mutual Information: 0.3176\n",
      "  Correlation Coefficient: 0.3911\n",
      "Column: Fe\n",
      "  Mutual Information: 0.0632\n",
      "  Correlation Coefficient: -0.3814\n",
      "Column: Mg\n",
      "  Mutual Information: 0.2197\n",
      "  Correlation Coefficient: -0.0429\n",
      "Column: Mn\n",
      "  Mutual Information: 0.0747\n",
      "  Correlation Coefficient: 0.0409\n",
      "Column: Ni\n",
      "  Mutual Information: 0.3077\n",
      "  Correlation Coefficient: -0.3731\n"
     ]
    }
   ],
   "source": [
    "mi = sklearn.feature_selection.mutual_info_regression(X, y)\n",
    "\n",
    "for col, score in zip(X.columns, mi):\n",
    "    # Calculate correlation coefficient\n",
    "    correlation = X[col].corr(y)  # Pandas corr() method\n",
    "    print(f\"Column: {col}\")\n",
    "    print(f\"  Mutual Information: {score:.4f}\")\n",
    "    print(f\"  Correlation Coefficient: {correlation:.4f}\")"
   ]
  },
  {
   "cell_type": "markdown",
   "metadata": {},
   "source": [
    "## 2. Perform regression with classical ML"
   ]
  },
  {
   "cell_type": "code",
   "execution_count": 6,
   "metadata": {},
   "outputs": [
    {
     "name": "stdout",
     "output_type": "stream",
     "text": [
      "Linear Regression: R Mean Squared Error = 0.1312\n",
      "Ridge Regression: R Mean Squared Error = 0.1337\n",
      "Lasso Regression: R Mean Squared Error = 0.1511\n",
      "Random Forest: R Mean Squared Error = 0.0634\n",
      "SVR: R Mean Squared Error = 0.1025\n",
      "\n",
      "Best Model: Random Forest with RMSE = 0.0634\n"
     ]
    }
   ],
   "source": [
    "from sklearn.model_selection import train_test_split\n",
    "from sklearn.linear_model import LinearRegression, Ridge, Lasso\n",
    "from sklearn.ensemble import RandomForestRegressor\n",
    "from sklearn.svm import SVR\n",
    "from sklearn.metrics import root_mean_squared_error\n",
    "\n",
    "# Split the data\n",
    "X_train, X_test, y_train, y_test = train_test_split(X, y, test_size=0.2, random_state=42)\n",
    "\n",
    "# Define models to compare\n",
    "models = {\n",
    "    \"Linear Regression\": LinearRegression(),\n",
    "    \"Ridge Regression\": Ridge(),\n",
    "    \"Lasso Regression\": Lasso(),\n",
    "    \"Random Forest\": RandomForestRegressor(random_state=42),\n",
    "    \"SVR\": SVR()\n",
    "}\n",
    "\n",
    "# Train, predict, and evaluate each model\n",
    "results = {}\n",
    "for name, model in models.items():\n",
    "    model.fit(X_train, y_train)  # Train\n",
    "    y_pred = model.predict(X_test)  # Predict\n",
    "    rmse = root_mean_squared_error(y_test, y_pred)  # Evaluate\n",
    "    results[name] = rmse  # Store results\n",
    "    print(f\"{name}: R Mean Squared Error = {rmse:.4f}\")\n",
    "\n",
    "# Find the best model\n",
    "best_model = min(results, key=results.get)\n",
    "print(f\"\\nBest Model: {best_model} with RMSE = {results[best_model]:.4f}\")"
   ]
  },
  {
   "cell_type": "markdown",
   "metadata": {},
   "source": [
    "## 3. Perform regression with deep learning"
   ]
  },
  {
   "cell_type": "code",
   "execution_count": 7,
   "metadata": {},
   "outputs": [],
   "source": [
    "import torch\n",
    "import torch.nn as nn\n",
    "import torch.optim as optim\n",
    "from sklearn.preprocessing import StandardScaler\n",
    "import numpy as np"
   ]
  },
  {
   "cell_type": "code",
   "execution_count": 8,
   "metadata": {},
   "outputs": [
    {
     "name": "stdout",
     "output_type": "stream",
     "text": [
      "[[0.0679073  0.12260057 0.4573748  0.32948194 0.00635819 0.0162772 ]\n",
      " [0.18714545 0.19900462 0.37287375 0.2305398  0.00712121 0.00331517]\n",
      " [0.13584441 0.12849829 0.40620097 0.30771921 0.00486585 0.01687127]\n",
      " ...\n",
      " [0.0567545  0.08583702 0.37087341 0.46916684 0.00528214 0.01208609]\n",
      " [0.06316047 0.12986363 0.45819846 0.32804983 0.00694488 0.01378274]\n",
      " [0.04166139 0.14171875 0.48040747 0.32049812 0.00888877 0.00682551]]\n",
      "Epoch 10/100, Loss: 3.2002\n",
      "Epoch 20/100, Loss: 2.6387\n",
      "Epoch 30/100, Loss: 2.0874\n",
      "Epoch 40/100, Loss: 1.4870\n",
      "Epoch 50/100, Loss: 0.8663\n",
      "Epoch 60/100, Loss: 0.3430\n",
      "Epoch 70/100, Loss: 0.0622\n",
      "Epoch 80/100, Loss: 0.0243\n",
      "Epoch 90/100, Loss: 0.0344\n",
      "Epoch 100/100, Loss: 0.0232\n",
      "Test Loss: 0.0259\n"
     ]
    },
    {
     "name": "stderr",
     "output_type": "stream",
     "text": [
      "/Users/michaelcherczynski/envs/gflownet/lib/python3.10/site-packages/torch/nn/modules/loss.py:608: UserWarning: Using a target size (torch.Size([194])) that is different to the input size (torch.Size([194, 1])). This will likely lead to incorrect results due to broadcasting. Please ensure they have the same size.\n",
      "  return F.mse_loss(input, target, reduction=self.reduction)\n",
      "/Users/michaelcherczynski/envs/gflownet/lib/python3.10/site-packages/torch/nn/modules/loss.py:608: UserWarning: Using a target size (torch.Size([49])) that is different to the input size (torch.Size([49, 1])). This will likely lead to incorrect results due to broadcasting. Please ensure they have the same size.\n",
      "  return F.mse_loss(input, target, reduction=self.reduction)\n"
     ]
    }
   ],
   "source": [
    "# Standardize features\n",
    "scaler = StandardScaler()\n",
    "X_train = scaler.fit_transform(X_train)\n",
    "X_test = scaler.transform(X_test)\n",
    "\n",
    "X_train, X_test, y_train, y_test = train_test_split(X, y, test_size=0.2, random_state=42)\n",
    "print(X_train.values)\n",
    "# Convert to PyTorch tensors\n",
    "X_train_tensor = torch.tensor(X_train.values, dtype=torch.float32)\n",
    "y_train_tensor = torch.tensor(y_train.values, dtype=torch.float32)\n",
    "X_test_tensor = torch.tensor(X_test.values, dtype=torch.float32)\n",
    "y_test_tensor = torch.tensor(y_test.values, dtype=torch.float32)\n",
    "\n",
    "# Define the MLP model\n",
    "class MLP(nn.Module):\n",
    "    def __init__(self, input_size):\n",
    "        super(MLP, self).__init__()\n",
    "        self.model = nn.Sequential(\n",
    "            nn.Linear(input_size, 64),\n",
    "            nn.ReLU(),\n",
    "            nn.Linear(64, 32),\n",
    "            nn.ReLU(),\n",
    "            nn.Linear(32, 1)  # Single output for regression\n",
    "        )\n",
    "\n",
    "    def forward(self, x):\n",
    "        return self.model(x)\n",
    "\n",
    "# Initialize the model, loss, and optimizer\n",
    "input_size = X_train.shape[1]\n",
    "model = MLP(input_size)\n",
    "criterion = nn.MSELoss()  # Mean Squared Error loss for regression\n",
    "optimizer = optim.Adam(model.parameters(), lr=0.001)\n",
    "\n",
    "# Train the model\n",
    "epochs = 100\n",
    "for epoch in range(epochs):\n",
    "    model.train()\n",
    "    optimizer.zero_grad()\n",
    "    predictions = model(X_train_tensor)\n",
    "    loss = criterion(predictions, y_train_tensor)\n",
    "    loss.backward()\n",
    "    optimizer.step()\n",
    "\n",
    "    if (epoch + 1) % 10 == 0:\n",
    "        print(f\"Epoch {epoch+1}/{epochs}, Loss: {loss.item():.4f}\")\n",
    "\n",
    "# Evaluate the model\n",
    "model.eval()\n",
    "with torch.no_grad():\n",
    "    predictions = model(X_test_tensor)\n",
    "    test_loss = criterion(predictions, y_test_tensor)\n",
    "    print(f\"Test Loss: {test_loss.item():.4f}\")"
   ]
  },
  {
   "cell_type": "code",
   "execution_count": 9,
   "metadata": {},
   "outputs": [],
   "source": [
    "#save the model to use in the environment\n",
    "torch.save(model.state_dict(), 'regression_heo.pth')"
   ]
  },
  {
   "cell_type": "code",
   "execution_count": 17,
   "metadata": {},
   "outputs": [
    {
     "data": {
      "text/plain": [
       "tensor([1.5983], grad_fn=<ViewBackward0>)"
      ]
     },
     "execution_count": 17,
     "metadata": {},
     "output_type": "execute_result"
    }
   ],
   "source": [
    "test_a = 0.1*torch.ones(6)\n",
    "model(test_a)"
   ]
  },
  {
   "cell_type": "code",
   "execution_count": null,
   "metadata": {},
   "outputs": [],
   "source": []
  }
 ],
 "metadata": {
  "kernelspec": {
   "display_name": "gflownet",
   "language": "python",
   "name": "python3"
  },
  "language_info": {
   "codemirror_mode": {
    "name": "ipython",
    "version": 3
   },
   "file_extension": ".py",
   "mimetype": "text/x-python",
   "name": "python",
   "nbconvert_exporter": "python",
   "pygments_lexer": "ipython3",
   "version": "3.10.15"
  }
 },
 "nbformat": 4,
 "nbformat_minor": 2
}
